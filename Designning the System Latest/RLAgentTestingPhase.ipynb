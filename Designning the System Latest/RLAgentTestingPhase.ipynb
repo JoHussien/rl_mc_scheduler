{
 "cells": [
  {
   "cell_type": "code",
   "execution_count": 7,
   "metadata": {},
   "outputs": [],
   "source": [
    "import numpy as np\n",
    "import pandas as pd\n",
    "import math, time, random\n",
    "from typing import Tuple\n",
    "import gym \n",
    "import random\n"
   ]
  },
  {
   "cell_type": "code",
   "execution_count": 8,
   "metadata": {},
   "outputs": [],
   "source": [
    "#iports of the Environment\n",
    "from gym import spaces\n",
    "from gym.utils import seeding\n",
    "# from os import path\n"
   ]
  },
  {
   "cell_type": "markdown",
   "metadata": {},
   "source": [
    "# Notes Section"
   ]
  },
  {
   "cell_type": "markdown",
   "metadata": {},
   "source": [
    "Every environment comes with an action_space and an observation_space. These attributes are of type Space, and they describe the format of valid actions and observations:\n",
    "The most common are Discrete and Box\"Continous space\".\n",
    "##### So what will we do?\n",
    "First I thought that we should have two action spaces: select_job {0: not_selected, 1:select} and update_job_state {0:not_released,1:released,2:starved}. \n",
    "Then I thought that we should have one action space select_job and based on it the state of each job shuld chaneg and hene the job_state should be in the observation_space."
   ]
  },
  {
   "cell_type": "markdown",
   "metadata": {},
   "source": [
    "### Passing the Parameters to the Workload-Generator"
   ]
  },
  {
   "cell_type": "code",
   "execution_count": 9,
   "metadata": {},
   "outputs": [
    {
     "name": "stdout",
     "output_type": "stream",
     "text": [
      "Stored 'job_num' (int)\n",
      "Stored 'total_load' (float)\n",
      "Stored 'lo_per' (float)\n",
      "Stored 'job_density' (int)\n"
     ]
    }
   ],
   "source": [
    "#Making them global to other notebooks on the same server\n",
    "job_num=5\n",
    "total_load=0.3\n",
    "lo_per=0.2\n",
    "job_density=5 #as suggested by the paper\n",
    "%store job_num\n",
    "%store total_load\n",
    "%store lo_per\n",
    "%store job_density\n"
   ]
  },
  {
   "cell_type": "markdown",
   "metadata": {},
   "source": [
    "### Uploading the workload/dataset "
   ]
  },
  {
   "cell_type": "code",
   "execution_count": 10,
   "metadata": {},
   "outputs": [
    {
     "data": {
      "text/html": [
       "<div>\n",
       "<style scoped>\n",
       "    .dataframe tbody tr th:only-of-type {\n",
       "        vertical-align: middle;\n",
       "    }\n",
       "\n",
       "    .dataframe tbody tr th {\n",
       "        vertical-align: top;\n",
       "    }\n",
       "\n",
       "    .dataframe thead th {\n",
       "        text-align: right;\n",
       "    }\n",
       "</style>\n",
       "<table border=\"1\" class=\"dataframe\">\n",
       "  <thead>\n",
       "    <tr style=\"text-align: right;\">\n",
       "      <th></th>\n",
       "      <th>Releases</th>\n",
       "      <th>Deadlines</th>\n",
       "      <th>Processing</th>\n",
       "      <th>Criticality</th>\n",
       "      <th>Job State</th>\n",
       "      <th>Selected</th>\n",
       "    </tr>\n",
       "  </thead>\n",
       "  <tbody>\n",
       "    <tr>\n",
       "      <td>0</td>\n",
       "      <td>1.1560</td>\n",
       "      <td>3.1475</td>\n",
       "      <td>0.3809</td>\n",
       "      <td>1</td>\n",
       "      <td>None</td>\n",
       "      <td>0</td>\n",
       "    </tr>\n",
       "    <tr>\n",
       "      <td>1</td>\n",
       "      <td>0.4358</td>\n",
       "      <td>3.1553</td>\n",
       "      <td>0.0883</td>\n",
       "      <td>1</td>\n",
       "      <td>None</td>\n",
       "      <td>0</td>\n",
       "    </tr>\n",
       "    <tr>\n",
       "      <td>2</td>\n",
       "      <td>0.3846</td>\n",
       "      <td>3.2697</td>\n",
       "      <td>0.4495</td>\n",
       "      <td>1</td>\n",
       "      <td>None</td>\n",
       "      <td>0</td>\n",
       "    </tr>\n",
       "    <tr>\n",
       "      <td>3</td>\n",
       "      <td>0.0000</td>\n",
       "      <td>7.0160</td>\n",
       "      <td>0.7605</td>\n",
       "      <td>1</td>\n",
       "      <td>None</td>\n",
       "      <td>0</td>\n",
       "    </tr>\n",
       "    <tr>\n",
       "      <td>4</td>\n",
       "      <td>0.4672</td>\n",
       "      <td>9.7825</td>\n",
       "      <td>1.2134</td>\n",
       "      <td>1</td>\n",
       "      <td>None</td>\n",
       "      <td>0</td>\n",
       "    </tr>\n",
       "  </tbody>\n",
       "</table>\n",
       "</div>"
      ],
      "text/plain": [
       "   Releases  Deadlines  Processing  Criticality Job State  Selected\n",
       "0    1.1560     3.1475      0.3809            1      None         0\n",
       "1    0.4358     3.1553      0.0883            1      None         0\n",
       "2    0.3846     3.2697      0.4495            1      None         0\n",
       "3    0.0000     7.0160      0.7605            1      None         0\n",
       "4    0.4672     9.7825      1.2134            1      None         0"
      ]
     },
     "execution_count": 10,
     "metadata": {},
     "output_type": "execute_result"
    }
   ],
   "source": [
    "workload_df= pd.read_excel(r'C:\\Users\\Youssef\\Desktop\\pythonjobgenerator\\workload.xlsx')\n",
    "workload_df.drop(workload_df.columns[workload_df.columns.str.contains('unnamed',case = False)],axis = 1, inplace = True)\n",
    "#Now we have two copies of the workload, one as datafram and one as numpy array\n",
    "empty_arr = [None] * job_num\n",
    "empty_arr2 = [0] * job_num\n",
    "\n",
    "workload_df.insert(4, \"Job State\", empty_arr, True) \n",
    "workload_df.insert(5, \"Selected\", empty_arr2, True) \n",
    "workload=np.array(workload_df)\n",
    "temp_df=workload_df\n",
    "workload_df\n"
   ]
  },
  {
   "cell_type": "markdown",
   "metadata": {},
   "source": [
    "### Constructor/Initialization"
   ]
  },
  {
   "cell_type": "code",
   "execution_count": 11,
   "metadata": {},
   "outputs": [],
   "source": [
    "class MC_agent(gym.Env):\n",
    "    def __init__(self,x,y,z,g,j):\n",
    "        self.time=j\n",
    "#         self.job_num=x\n",
    "#         self.total_load=y\n",
    "#         self.lo_per=z\n",
    "#         self.job_density=g #as suggested by the paper\n",
    "#         store_params()\n",
    "# #              Action:\n",
    "# #              0: not selected job \n",
    "# #              1: selected\n",
    "        self.action_space_select_job = spaces.Discrete(2) \n",
    "        self.viewer=None\n",
    "#         self.observation_space = spaces.Box() \n",
    "\n",
    "    def step(self):\n",
    "        action=0\n",
    "        finished=False\n",
    "        \n",
    "        while(finished==False):\n",
    "            for el in workload:\n",
    "                if(el[:][0]>self.time):\n",
    "                    el[:][4]=0 #not_released yet\n",
    "                elif(el[:][0]<=self.time):\n",
    "                    el[:][4]=1 #released\n",
    "                if(el[:][1]<=self.time):\n",
    "                    el[:][4]=2 #starved\n",
    "            self.time=self.time+1\n",
    "\n",
    "            for el in workload:\n",
    "                action=self.action_space_select_job.sample()\n",
    "                if ((action==1)and(el[:][5]==0) and (el[:][4]==1)): #I can only select a job if the action is 1 and it hasnot been seleted before and it is released\n",
    "                    el[:][5]=1\n",
    "                    self.time=self.time+ el[:][2] #time=time+processing\n",
    "                    self.time=self.time-1 #As it should be updated only by processing\n",
    "                    break\n",
    "                \n",
    "            workload_df = pd.DataFrame({'Releases': workload[:, 0], 'Deadlines': workload[:, 1],'Processing': workload[:, 2], 'Criticality': workload[:, 3],\"Job State\":workload[:,4],\"Selected\":workload[:,5] })\n",
    "            print(\"Workload at time: \", self.time-1)\n",
    "            print( workload_df)\n",
    "            if(self.time>=workload[job_num-1][1]):\n",
    "                workload[job_num-1][4]=2\n",
    "                finished=True\n",
    "    def reset(self):\n",
    "        workload_df=temp_df\n",
    "#         self.time=0 #This can be removed as in the initialization it is initialized\n",
    "    \n",
    "    "
   ]
  },
  {
   "cell_type": "code",
   "execution_count": 12,
   "metadata": {},
   "outputs": [
    {
     "name": "stdout",
     "output_type": "stream",
     "text": [
      "Workload at time:  -0.23950000000000005\n",
      "  Releases Deadlines Processing Criticality Job State Selected\n",
      "0    1.156    3.1475     0.3809           1         0        0\n",
      "1   0.4358    3.1553     0.0883           1         0        0\n",
      "2   0.3846    3.2697     0.4495           1         0        0\n",
      "3        0     7.016     0.7605           1         1        1\n",
      "4   0.4672    9.7825     1.2134           1         0        0\n",
      "Workload at time:  0.20999999999999996\n",
      "  Releases Deadlines Processing Criticality Job State Selected\n",
      "0    1.156    3.1475     0.3809           1         0        0\n",
      "1   0.4358    3.1553     0.0883           1         1        0\n",
      "2   0.3846    3.2697     0.4495           1         1        1\n",
      "3        0     7.016     0.7605           1         1        1\n",
      "4   0.4672    9.7825     1.2134           1         1        0\n",
      "Workload at time:  0.5909\n",
      "  Releases Deadlines Processing Criticality Job State Selected\n",
      "0    1.156    3.1475     0.3809           1         1        1\n",
      "1   0.4358    3.1553     0.0883           1         1        0\n",
      "2   0.3846    3.2697     0.4495           1         1        1\n",
      "3        0     7.016     0.7605           1         1        1\n",
      "4   0.4672    9.7825     1.2134           1         1        0\n",
      "Workload at time:  0.6791999999999998\n",
      "  Releases Deadlines Processing Criticality Job State Selected\n",
      "0    1.156    3.1475     0.3809           1         1        1\n",
      "1   0.4358    3.1553     0.0883           1         1        1\n",
      "2   0.3846    3.2697     0.4495           1         1        1\n",
      "3        0     7.016     0.7605           1         1        1\n",
      "4   0.4672    9.7825     1.2134           1         1        0\n",
      "Workload at time:  1.8925999999999998\n",
      "  Releases Deadlines Processing Criticality Job State Selected\n",
      "0    1.156    3.1475     0.3809           1         1        1\n",
      "1   0.4358    3.1553     0.0883           1         1        1\n",
      "2   0.3846    3.2697     0.4495           1         1        1\n",
      "3        0     7.016     0.7605           1         1        1\n",
      "4   0.4672    9.7825     1.2134           1         1        1\n",
      "Workload at time:  2.8926\n",
      "  Releases Deadlines Processing Criticality Job State Selected\n",
      "0    1.156    3.1475     0.3809           1         1        1\n",
      "1   0.4358    3.1553     0.0883           1         1        1\n",
      "2   0.3846    3.2697     0.4495           1         1        1\n",
      "3        0     7.016     0.7605           1         1        1\n",
      "4   0.4672    9.7825     1.2134           1         1        1\n",
      "Workload at time:  3.8926\n",
      "  Releases Deadlines Processing Criticality Job State Selected\n",
      "0    1.156    3.1475     0.3809           1         2        1\n",
      "1   0.4358    3.1553     0.0883           1         2        1\n",
      "2   0.3846    3.2697     0.4495           1         2        1\n",
      "3        0     7.016     0.7605           1         1        1\n",
      "4   0.4672    9.7825     1.2134           1         1        1\n",
      "Workload at time:  4.8926\n",
      "  Releases Deadlines Processing Criticality Job State Selected\n",
      "0    1.156    3.1475     0.3809           1         2        1\n",
      "1   0.4358    3.1553     0.0883           1         2        1\n",
      "2   0.3846    3.2697     0.4495           1         2        1\n",
      "3        0     7.016     0.7605           1         1        1\n",
      "4   0.4672    9.7825     1.2134           1         1        1\n",
      "Workload at time:  5.8926\n",
      "  Releases Deadlines Processing Criticality Job State Selected\n",
      "0    1.156    3.1475     0.3809           1         2        1\n",
      "1   0.4358    3.1553     0.0883           1         2        1\n",
      "2   0.3846    3.2697     0.4495           1         2        1\n",
      "3        0     7.016     0.7605           1         1        1\n",
      "4   0.4672    9.7825     1.2134           1         1        1\n",
      "Workload at time:  6.8926\n",
      "  Releases Deadlines Processing Criticality Job State Selected\n",
      "0    1.156    3.1475     0.3809           1         2        1\n",
      "1   0.4358    3.1553     0.0883           1         2        1\n",
      "2   0.3846    3.2697     0.4495           1         2        1\n",
      "3        0     7.016     0.7605           1         1        1\n",
      "4   0.4672    9.7825     1.2134           1         1        1\n",
      "Workload at time:  7.8926\n",
      "  Releases Deadlines Processing Criticality Job State Selected\n",
      "0    1.156    3.1475     0.3809           1         2        1\n",
      "1   0.4358    3.1553     0.0883           1         2        1\n",
      "2   0.3846    3.2697     0.4495           1         2        1\n",
      "3        0     7.016     0.7605           1         2        1\n",
      "4   0.4672    9.7825     1.2134           1         1        1\n",
      "Workload at time:  8.8926\n",
      "  Releases Deadlines Processing Criticality Job State Selected\n",
      "0    1.156    3.1475     0.3809           1         2        1\n",
      "1   0.4358    3.1553     0.0883           1         2        1\n",
      "2   0.3846    3.2697     0.4495           1         2        1\n",
      "3        0     7.016     0.7605           1         2        1\n",
      "4   0.4672    9.7825     1.2134           1         1        1\n"
     ]
    }
   ],
   "source": [
    "#Main\n",
    "agent= MC_agent(25,0.3,0.5,5,0)\n",
    "agent.reset()\n",
    "sel_job_act=agent.action_space_select_job.sample()\n",
    "agent.step()\n",
    "# agent.time( 0.3527)\n",
    "# agent.step()\n"
   ]
  },
  {
   "cell_type": "markdown",
   "metadata": {},
   "source": [
    "#### Tasks couldn't finish\n",
    "passing parameters better,\n",
    "rendering,\n",
    "observation space defintion "
   ]
  },
  {
   "cell_type": "code",
   "execution_count": null,
   "metadata": {},
   "outputs": [],
   "source": []
  },
  {
   "cell_type": "code",
   "execution_count": null,
   "metadata": {},
   "outputs": [],
   "source": []
  }
 ],
 "metadata": {
  "kernelspec": {
   "display_name": "Python 3",
   "language": "python",
   "name": "python3"
  },
  "language_info": {
   "codemirror_mode": {
    "name": "ipython",
    "version": 3
   },
   "file_extension": ".py",
   "mimetype": "text/x-python",
   "name": "python",
   "nbconvert_exporter": "python",
   "pygments_lexer": "ipython3",
   "version": "3.7.4"
  }
 },
 "nbformat": 4,
 "nbformat_minor": 2
}
